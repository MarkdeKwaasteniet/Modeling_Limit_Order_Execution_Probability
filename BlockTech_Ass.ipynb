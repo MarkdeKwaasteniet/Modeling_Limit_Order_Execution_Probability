{
 "cells": [
  {
   "cell_type": "code",
   "execution_count": 2,
   "metadata": {},
   "outputs": [],
   "source": [
    "%reset\n",
    "import numpy as np\n",
    "import pandas as pd\n",
    "import numpy.random as npr\n",
    "import matplotlib.pyplot as plt\n",
    "from statsmodels.formula.api import ols\n",
    "import scipy\n",
    "import scipy.stats\n",
    "from scipy.stats import norm"
   ]
  },
  {
   "cell_type": "code",
   "execution_count": 14,
   "metadata": {},
   "outputs": [],
   "source": [
    "# Number of paths that need to be simulated\n",
    "path = 1\n",
    "\n",
    "# Number of timesteps for the simulator to create stock prices for\n",
    "timesteps = 20\n",
    "\n",
    "# Number of years that need to be simulated.\n",
    "years_sim = 2\n",
    "\n",
    "# The assumed volatility that is given.\n",
    "volatility_asset = 0.22\n",
    "\n",
    "# The start price of the stock.\n",
    "start_price = 100\n",
    "\n",
    "price_mov = 0.01\n",
    "\n",
    "# The assumed risk free rate.\n",
    "rf_rate = 0.00\n",
    "\n",
    "# The seed number that is given, so that np.random will have the same random choice every run.\n",
    "seed_number = 3011\n",
    "\n",
    "# Reading/writing order in which we reshape the matrices\n",
    "rw_order = 'F' # Order F, meaning that the first index with change fastest and last index changest slowest"
   ]
  },
  {
   "cell_type": "code",
   "execution_count": 19,
   "metadata": {},
   "outputs": [],
   "source": [
    "'''Maximum Price after a number of timesteps'''\n",
    "max_price = start_price*np.power((1+price_mov),timesteps)\n",
    "\n",
    "'''Minimum Price after a number of timesteps'''\n",
    "min_price = start_price*np.power((1-price_mov),timesteps)\n"
   ]
  },
  {
   "cell_type": "code",
   "execution_count": 20,
   "metadata": {},
   "outputs": [
    {
     "data": {
      "text/plain": [
       "81.79069375972307"
      ]
     },
     "execution_count": 20,
     "metadata": {},
     "output_type": "execute_result"
    }
   ],
   "source": [
    "min_price"
   ]
  },
  {
   "cell_type": "code",
   "execution_count": 37,
   "metadata": {},
   "outputs": [],
   "source": [
    "def binomial_tree(X, ret, t, strike, prob, type):\n",
    "    u = 1 + ret\n",
    "    d = 1 - ret\n",
    "\n",
    "    C = X * d ** (np.arange(t,-1,-1)) * u ** (np.arange(0,t+1,1))\n",
    "\n",
    "    if type == \"Call\":\n",
    "        C = np.maximum(C-strike, np.zeros(t+1))\n",
    "    elif type == \"Put\":\n",
    "        C = np.maximum(strike-C, np.zeros(t+1))\n",
    "\n",
    "\n",
    "    for i in np.arange(t,0,-1):\n",
    "        C = (prob*C[1:i+1]) + (1-prob) * C[0:i]\n",
    "\n",
    "    return C[0]"
   ]
  },
  {
   "cell_type": "code",
   "execution_count": 38,
   "metadata": {},
   "outputs": [
    {
     "data": {
      "text/plain": [
       "20.000001925472258"
      ]
     },
     "execution_count": 38,
     "metadata": {},
     "output_type": "execute_result"
    }
   ],
   "source": [
    "binomial_tree(start_price, price_mov, timesteps, 120, 0.5, \"Put\")"
   ]
  },
  {
   "cell_type": "code",
   "execution_count": null,
   "metadata": {},
   "outputs": [],
   "source": [
    "def alter_binomial_tree(X, ret, t, strike, prob, type):\n",
    "    u = 1 + ret\n",
    "    d = 1 - ret\n",
    "\n",
    "    C = X * d ** (np.arange(t,-1,-1)) * u ** (np.arange(0,t+1,1))\n",
    "\n",
    "    if type == \"Call\":\n",
    "        C = np.maximum(C-strike, np.zeros(t+1))\n",
    "    elif type == \"Put\":\n",
    "        C = np.maximum(strike-C, np.zeros(t+1))\n",
    "\n",
    "\n",
    "    for i in np.arange(t,0,-1):\n",
    "        C = (prob*C[1:i+1]) + (1-prob) * C[0:i]\n",
    "\n",
    "    return C[0]"
   ]
  },
  {
   "cell_type": "code",
   "execution_count": null,
   "metadata": {},
   "outputs": [],
   "source": [
    "%%%%%%%%%% Problem and method parameters %%%%%%%%%%%%%\n",
    "S = 5;E = 10;T = 1;r = 0.06;sigma = 0.3;M = 256;\n",
    "dt = T/M;A = 0.5*(exp(-r*dt)+exp((r+sigmaˆ2)*dt));\n",
    "u=A+ sqrt(Aˆ2-1);d = 1/u;p = (exp(r*dt)-d)/(u-d);\n",
    "%%%%%%%%%%%%%%%%%%%%%%%%%%%%%%%%%%%%%%%%%%%%%%%%%%%%%%\n",
    "% Option values at time T\n",
    "W = max(E-S*d.ˆ([M:-1:0]’).*u.ˆ([0:M]’),0);\n",
    "% log/cumsum version\n",
    "csl = cumsum(log([1;[1:M]’]));\n",
    "tmp = csl(M+1) - csl - csl(M+1:-1:1) + log(p)*([0:M]’) + log(1-p)*([M:-1:0]’);\n",
    "value = exp(-r*T)*sum(exp(tmp).*W);\n",
    "disp(’Option value is’), disp(value)"
   ]
  },
  {
   "cell_type": "code",
   "execution_count": 8,
   "metadata": {},
   "outputs": [],
   "source": [
    "def stoch_pathsim(n, m, T, v, S, r):\n",
    "    #Since, we need to set the seed before running each function, we put it inside the function.\n",
    "    np.random.seed(seed_number)\n",
    "    \n",
    "    #We determine the delta of t: The number of simulation years divided by the number of time steps.\n",
    "    delta_t = T/m\n",
    "    delta_t = T\n",
    "    \n",
    "    #Then we determine the return + 1 of a stock price going up. Using the formula given in question 2.\n",
    "    ret_up = 1 + price_mov\n",
    "\n",
    "    #Then we determine the return + 1 of a stock price going down\n",
    "    ret_down = 1/ret_up\n",
    "    \n",
    "    #Using the risk neutral probability, we determine the probability of the stock price going up (prob of ret_up happening)\n",
    "    prob_up = 0.5 \n",
    "    \n",
    "    #We determine the probability of the stock price going down. Using the formula given in question 2.\n",
    "    prob_down = 1-prob_up\n",
    "    \n",
    "    #We create a matrix (1 row) of all starting values and the length of the number of paths.\n",
    "    row = 1\n",
    "    starting_prices = np.full((row, n), S)\n",
    "    \n",
    "    #We create another matrix that is equal to size of the zero's in the price_slow matrix.\n",
    "    #In this new matrix we store all the probabilities of the stock price going up an down. \n",
    "\n",
    "    #Using Numpy Random Choice, it will choose randomly (with the calculated probabilities) between two values, return up and down.\n",
    "    probability = npr.choice((ret_down,ret_up), n*m, p=[prob_down,prob_up])\n",
    "    \n",
    "    #Then we reshape this list into a matrix and take the cumulative products over every column in the matrix.\n",
    "    return_matrix = np.cumprod(np.reshape(probability, (m,n), order=rw_order),axis=0)\n",
    "    \n",
    "    #Now we have one matrix with all the cumulative products and one array with starting values.\n",
    "    #If we multiply them, we have all the stock prices at every timestep and for every path.\n",
    "    stock_prices = np.multiply((return_matrix),starting_prices)\n",
    "    \n",
    "    #We have a matrix of (m,n) without the initial starting values. Therefore, we concatenate these to the matrix.\n",
    "    prices_stoch = np.concatenate((starting_prices, stock_prices), axis=0)\n",
    "    \n",
    "    #Return the matrix with all the prices.\n",
    "    return prices_stoch"
   ]
  },
  {
   "cell_type": "code",
   "execution_count": null,
   "metadata": {},
   "outputs": [],
   "source": [
    "def binomial_call(S0,T,m,rf,E,sigma):\n",
    "    dt = T/m\n",
    "    # Compute steps for tree: u and d\n",
    "    u = 1 + ret\n",
    "    d = 1 - ret\n",
    "    # Compute the probability of up\n",
    "    p = 0.5\n",
    "    # Setup stock price and call value matrix\n",
    "    # We need m+1 rows and columns due to the zero state!\n",
    "    s = np.zeros((m+1,m+1))\n",
    "    c = np.zeros((m+1,m+1))\n",
    "    # Initialize stock price\n",
    "    s[0,0] = S0\n",
    "    \n",
    "    # Compute all stock prices\n",
    "    for i in range(1,m+1):\n",
    "        # Loop over time periods\n",
    "        for j in range(0,i+1):\n",
    "            # Loop over states in a single time period\n",
    "            if j == 0: # This is an up state\n",
    "                s[j,i] = s[j,i-1]*u\n",
    "            elif j > 0:\n",
    "                s[j,i] = s[j-1,i-1]*d\n",
    "    \n",
    "    # Compute call value\n",
    "    # We know the call value at the very last step\n",
    "    c[:,m] = s[:,m] - E\n",
    "    c[c < 0] = 0\n",
    "    # We now reverse the order and go from the end back\n",
    "    # to the beginning to compute the call value\n",
    "    for i in range(m-1,-1,-1):\n",
    "        for j in range(0,i+1):\n",
    "                c[j,i] = (p*c[j,i+1]+(1-p)*c[j+1,i+1])*np.exp(-rf*dt)\n",
    "    \n",
    "    return c[0,0] # Return Discounted price"
   ]
  },
  {
   "cell_type": "code",
   "execution_count": null,
   "metadata": {},
   "outputs": [],
   "source": [
    "def simulated_option(S0,T,m,rf,E,sigma,n):\n",
    "    \n",
    "    #First the simulated stock prices are being calculted using the same function as before.\n",
    "    stock_prices = stoch_pathsim(n,m,T,sigma,S0,rf)\n",
    "    \n",
    "    #Then we extract the last row of the matrix, which are the final prices of all the stocks (paths).\n",
    "    final_prices = stock_prices[-1,:]\n",
    "    \n",
    "    #We determine the call value by subtracting the strike price from the final prices.\n",
    "    call_price = final_prices-E\n",
    "    \n",
    "    #We check werther the call value is lower than zero. If this is the case, then we set this value equal to zero,\n",
    "    #because nobody will exercise his/her call when the value is negative. Thus the price = 0.\n",
    "    call_price = call_price.clip(min=0)\n",
    "    \n",
    "    #These call_values are all at the last timestep. Meaning we should discount them to determine the present value.\n",
    "    pv_price = call_price / np.exp(rf * T)\n",
    "    \n",
    "    #We return the mean of the present call value of all the stocks (number of paths).                                        \n",
    "    return np.mean(pv_price)"
   ]
  },
  {
   "cell_type": "code",
   "execution_count": null,
   "metadata": {},
   "outputs": [],
   "source": [
    "# Set the characteristics for all the three methods.\n",
    "# Number of paths that need to be simulated\n",
    "path = 1 #Number of paths is only used by the simulated call price\n",
    "\n",
    "# Time to maturity\n",
    "years = 1\n",
    "\n",
    "# The assumed volatility of the underlying asset\n",
    "volatility_asset = 0.01\n",
    "\n",
    "# Starting price of the underlying asset.\n",
    "start_price = 100\n",
    "\n",
    "# The assumed risk free rate.\n",
    "rf_rate = 0.00\n",
    "\n",
    "# The strike price.\n",
    "strike_price = 100\n",
    "\n",
    "# The seed number that is given, so that np.random will have the same random choice every run.\n",
    "seed_number = 3011"
   ]
  },
  {
   "cell_type": "code",
   "execution_count": null,
   "metadata": {},
   "outputs": [],
   "source": [
    "def price_paths_fast(n, m, T, v, S, r):\n",
    "    #Since, we need to set the seed before running each function, we put it inside the function.\n",
    "    np.random.seed(seed_number)\n",
    "    \n",
    "    #We determine the delta of t: The number of simulation years divided by the number of time steps.\n",
    "    delta_t = T/m\n",
    "    \n",
    "    #Then we determine the return + 1 of a stock price going up. Using the formula given in question 2.\n",
    "    ret_up = np.exp(v*np.sqrt(delta_t))\n",
    "    \n",
    "    #Then we determine the return + 1 of a stock price going down\n",
    "    ret_down = 1/ret_up\n",
    "    \n",
    "    #Using the risk neutral probability, we determine the probability of the stock price going up (prob of ret_up happening)\n",
    "    prob_up = (np.exp(r*delta_t)-ret_down)/(ret_up-ret_down) #Using the formula given in question 2.\n",
    "    \n",
    "    #We determine the probability of the stock price going down. Using the formula given in question 2.\n",
    "    prob_down = 1-prob_up\n",
    "    \n",
    "    #We create a matrix (1 row) of all starting values and the length of the number of paths.\n",
    "    row = 1\n",
    "    starting_prices = np.full((row, n), S)\n",
    "    \n",
    "    \n",
    "    #We create another matrix that is equal to size of the zero's in the price_slow matrix.\n",
    "    #In this new matrix we store all the probabilities of the stock price going up an down. \n",
    "    #Using Numpy Random Choice, it will choose randomly (with the calculated probabilities) between two values, return up and down.\n",
    "    probability = npr.choice((ret_down,ret_up), n*m, p=[prob_down,prob_up])\n",
    "    \n",
    "    #Then we reshape this list into a matrix and take the cumulative products over every column in the matrix.\n",
    "    return_matrix = np.cumprod(np.reshape(probability, (m,n), order=rw_order),axis=0)\n",
    "    \n",
    "    #Now we have one matrix with all the cumulative products and one array with starting values.\n",
    "    #If we multiply them, we have all the stock prices at every timestep and for every path.\n",
    "    stock_prices = np.multiply((return_matrix),starting_prices)\n",
    "    \n",
    "    #We have a matrix of (m,n) without the initial starting values. Therefore, we concatenate these to the matrix.\n",
    "    prices_fast = np.concatenate((starting_prices, stock_prices), axis=0)\n",
    "    \n",
    "    #Return the matrix with all the prices.\n",
    "    return prices_fast"
   ]
  }
 ],
 "metadata": {
  "interpreter": {
   "hash": "40d3a090f54c6569ab1632332b64b2c03c39dcf918b08424e98f38b5ae0af88f"
  },
  "kernelspec": {
   "display_name": "Python 3.8.12 ('base')",
   "language": "python",
   "name": "python3"
  },
  "language_info": {
   "codemirror_mode": {
    "name": "ipython",
    "version": 3
   },
   "file_extension": ".py",
   "mimetype": "text/x-python",
   "name": "python",
   "nbconvert_exporter": "python",
   "pygments_lexer": "ipython3",
   "version": "3.8.12"
  },
  "orig_nbformat": 4
 },
 "nbformat": 4,
 "nbformat_minor": 2
}
